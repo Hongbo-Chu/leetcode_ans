{
 "cells": [
  {
   "cell_type": "markdown",
   "metadata": {},
   "source": [
    "# 问题描述：\n",
    "你是一个专业的小偷，计划偷窃沿街的房屋。每间房内都藏有一定的现金，影响你偷窃的唯一制约因素就是相邻的房屋装有相互连通的防盗系统，如果两间相邻的房屋在同一晚上被小偷闯入，系统会自动报警。\n",
    "\n",
    "给定一个代表每个房屋存放金额的非负整数数组，计算你 不触动警报装置的情况下 ，一夜之内能够偷窃到的最高金额。\n",
    "\n",
    "## 解题思路：\n",
    "利用dp解题 ，设1dp数组中存放的是当前能偷到的最大金额，nums[]数组存放的是每家的金额数\n",
    "    dp[i] = max(dp[i-2].....dp[0])+nums[i]\n",
    "    优化后：dp[i]=max(dp[i−2]+nums[i],dp[i−1])\n",
    "## 注意细节\n",
    "其中nums[]数组是从0开始的，而对应的dp[]数组[0]存的是初始化条件0，dp[i+1]对应nums[i]\n",
    "  "
   ]
  },
  {
   "cell_type": "code",
   "execution_count": 71,
   "metadata": {},
   "outputs": [],
   "source": [
    "def rob(nums: list) :\n",
    "    dp = [0]*(len(nums)+1)\n",
    "    if len(nums)>1:\n",
    "        dp[1] = nums[0]\n",
    "        for i in range(2, len(nums)+1):\n",
    "            dp[i] = max(dp[kk] for kk in range(0,i-1))+nums[i-1]\n",
    "    else:\n",
    "        return nums[0]\n",
    "    return max(i for i in dp)"
   ]
  },
  {
   "cell_type": "code",
   "execution_count": 72,
   "metadata": {},
   "outputs": [
    {
     "data": {
      "text/plain": [
       "12"
      ]
     },
     "execution_count": 72,
     "metadata": {},
     "output_type": "execute_result"
    }
   ],
   "source": [
    "rob([2,7,9,3,1])"
   ]
  },
  {
   "cell_type": "code",
   "execution_count": null,
   "metadata": {},
   "outputs": [],
   "source": []
  }
 ],
 "metadata": {
  "kernelspec": {
   "display_name": "Python 3",
   "language": "python",
   "name": "python3"
  },
  "language_info": {
   "codemirror_mode": {
    "name": "ipython",
    "version": 3
   },
   "file_extension": ".py",
   "mimetype": "text/x-python",
   "name": "python",
   "nbconvert_exporter": "python",
   "pygments_lexer": "ipython3",
   "version": "3.8.5"
  },
  "toc": {
   "base_numbering": 1,
   "nav_menu": {},
   "number_sections": true,
   "sideBar": true,
   "skip_h1_title": false,
   "title_cell": "Table of Contents",
   "title_sidebar": "Contents",
   "toc_cell": false,
   "toc_position": {},
   "toc_section_display": true,
   "toc_window_display": false
  }
 },
 "nbformat": 4,
 "nbformat_minor": 4
}
