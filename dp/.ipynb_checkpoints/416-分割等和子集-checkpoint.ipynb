{
 "cells": [
  {
   "cell_type": "markdown",
   "metadata": {},
   "source": [
    "# 题目：\n",
    "给你一个 只包含正整数 的 非空 数组 nums 。请你判断是否可以将这个数组分割成两个子集，使得两个子集的元素和相等。\n",
    "## 思路：\n",
    "    0-1背包问题：找nums是否存在特定组合，使得和是总和的一般\n",
    "    \n",
    "## 有关背包：\n",
    "        1.开数组当前背包容量从0开，0---指定容量\n",
    "        2两层for 外层是当前重量，内层是value"
   ]
  },
  {
   "cell_type": "markdown",
   "metadata": {},
   "source": [
    "### 第一版自己写的\n",
    "```python\n",
    "def canPartition(nums: list):\n",
    "    #先刷总和\n",
    "    trarget = sum(i for i in nums)/2\n",
    "    nums.sort()\n",
    "    #背包问题求解\n",
    "    dp = [[0]*len(nums) for _ in range(int(trarget)+1)]\n",
    "    #target行nums列\n",
    "    for i in range(1, int(trarget)+1):\n",
    "        for j in range(1, len(nums)):\n",
    "            if i>=nums[j-1]:\n",
    "                dp[i][j] = max(dp[i-nums[j-1]][j-1]+nums[j-1], dp[i][j-1])\n",
    "                if dp[i][j] == trarget:\n",
    "                    return True\n",
    "            else:\n",
    "                dp[i][j] = dp[i][j-1]\n",
    "                if dp[i][j] == trarget:\n",
    "                    return True\n",
    "#     /print(dp)\n",
    "    return False\n",
    "```"
   ]
  },
  {
   "cell_type": "markdown",
   "metadata": {},
   "source": [
    "## 优化\n",
    "#### 第一版自己写的就是个01背包\n",
    "dp[i][j]表示把权重为nums[0...i]装入限重为j的背包的最大加权，此题权重与重量都是nums\n",
    "转移方程是 \n",
    "```python\n",
    "    if j<nums[i]:\n",
    "        dp[i][j] = dp[i-1][j]\n",
    "    else: \n",
    "        dp[i][j] = max(dp[i-1][j], dp[i-1][j-nums[i]]+num[i])#不取nums[j]和nums\n",
    "```\n",
    "初始条件是：\n",
    "    全零\n",
    "#### 优化后01背包不再存储最大加权，而是存TF\n",
    "dp[i][j] 表示nums[0...i]中是否存在某些组合，使得其和等于j\n",
    "状态转移方程：\n",
    "```python\n",
    "    if j<nums[i]:\n",
    "        dp[i][j] = dp[i-1][j]#nums[i]装不进去 \n",
    "    else:\n",
    "        #nums[i]能装进去也有装和不装两种情况\n",
    "        dp[i][j] = dp[i-1][j] | dp[i-1][j-nums[i]]\n",
    "        #如果dp[i-1][j-nums[i]]为true的话，那么装了nums[i]后，正好为j\n",
    "        #如果不装（dp[i-1][j]）就位true的话那么一定可以\n",
    " ```"
   ]
  },
  {
   "cell_type": "code",
   "execution_count": 8,
   "metadata": {},
   "outputs": [],
   "source": [
    "def canPartition(nums: list):\n",
    "    ss = sum(nums)\n",
    "    tar = int(ss/2)\n",
    "    mm = max(nums)\n",
    "    #先简单判断一下\n",
    "    if ss%2!=0 or tar<mm:\n",
    "        return False\n",
    "    dp = [[False]*(tar+1) for _ in range(len(nums))]#tar列nums行\n",
    "    #初始条件\n",
    "    for ii in range(len(nums)):\n",
    "        dp[ii][0]=True#当tar = 0 时候 可以什么都不拿\n",
    "    dp[0][nums[0]] = True\n",
    "    \n",
    "    for i in range(len(nums)):\n",
    "        for j in range(1, tar+1):\n",
    "            if nums[i]>j:#装不进去\n",
    "                dp[i][j] = dp[i-1][j]\n",
    "            else:\n",
    "                dp[i][j] = dp[i-1][j] | dp[i-1][j-nums[i]]\n",
    "    return dp[len(nums)-1][tar]\n",
    "                "
   ]
  },
  {
   "cell_type": "code",
   "execution_count": 11,
   "metadata": {},
   "outputs": [
    {
     "data": {
      "text/plain": [
       "False"
      ]
     },
     "execution_count": 11,
     "metadata": {},
     "output_type": "execute_result"
    }
   ],
   "source": [
    "canPartition([1,2,3,5])"
   ]
  },
  {
   "cell_type": "code",
   "execution_count": null,
   "metadata": {},
   "outputs": [],
   "source": []
  }
 ],
 "metadata": {
  "kernelspec": {
   "display_name": "Python 3",
   "language": "python",
   "name": "python3"
  },
  "language_info": {
   "codemirror_mode": {
    "name": "ipython",
    "version": 3
   },
   "file_extension": ".py",
   "mimetype": "text/x-python",
   "name": "python",
   "nbconvert_exporter": "python",
   "pygments_lexer": "ipython3",
   "version": "3.8.5"
  },
  "toc": {
   "base_numbering": 1,
   "nav_menu": {},
   "number_sections": true,
   "sideBar": true,
   "skip_h1_title": false,
   "title_cell": "Table of Contents",
   "title_sidebar": "Contents",
   "toc_cell": false,
   "toc_position": {},
   "toc_section_display": true,
   "toc_window_display": false
  }
 },
 "nbformat": 4,
 "nbformat_minor": 4
}
